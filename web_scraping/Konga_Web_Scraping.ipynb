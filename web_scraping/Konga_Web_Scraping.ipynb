{
 "cells": [
  {
   "cell_type": "code",
   "execution_count": 2,
   "metadata": {
    "collapsed": true
   },
   "outputs": [],
   "source": [
    "from bs4 import BeautifulSoup\n",
    "from urllib.request import urlopen"
   ]
  },
  {
   "cell_type": "code",
   "execution_count": 3,
   "metadata": {
    "collapsed": true
   },
   "outputs": [],
   "source": [
    "url = \"https://www.konga.com/catalogsearch/result/?category_id=7539&aggregated_brand=Samsung\""
   ]
  },
  {
   "cell_type": "code",
   "execution_count": 5,
   "metadata": {
    "collapsed": false
   },
   "outputs": [],
   "source": [
    "response = urlopen(url)\n",
    "\n",
    "html_page = response.read()\n",
    "response.close()"
   ]
  },
  {
   "cell_type": "code",
   "execution_count": 6,
   "metadata": {
    "collapsed": false
   },
   "outputs": [],
   "source": [
    "scrape_page = BeautifulSoup(html_page, \"html.parser\")"
   ]
  },
  {
   "cell_type": "code",
   "execution_count": 71,
   "metadata": {
    "collapsed": false
   },
   "outputs": [],
   "source": [
    "containers = scrape_page.find_all( \"div\", {\"class\":\"product-block\"})"
   ]
  },
  {
   "cell_type": "code",
   "execution_count": 72,
   "metadata": {
    "collapsed": false
   },
   "outputs": [
    {
     "name": "stdout",
     "output_type": "stream",
     "text": [
      "9\n",
      "<div class=\"product-block\" data-brand=\"Samsung\" data-category=\"\" data-product-name=\"Galaxy S8 - Black\" data-sku=\"3411612\" data-url-key=\"samsung-galaxy-s8-black-3411612\">\n",
      " <a class=\"product-block-link\" href=\"/samsung-galaxy-s8-black-3411612\">\n",
      "  <img class=\"catalog-product-image\" src=\"https://www-konga-com-res.cloudinary.com/w_250,h_250,q_auto,f_auto,fl_lossy,dpr_auto/media/catalog/product/G/a/Galaxy-S8---Black-7690154_1.jpg?1523265987095\"/>\n",
      " </a>\n",
      " <div class=\"hover-product-info\">\n",
      "  <div class=\"name-price-card clearfix\">\n",
      "   <div class=\"product-name truncate\">\n",
      "    <a href=\"/samsung-galaxy-s8-black-3411612\">\n",
      "     <span>\n",
      "      Samsung - Galaxy S8 - Black\n",
      "     </span>\n",
      "    </a>\n",
      "   </div>\n",
      "   <div class=\"original-price original-price-bold\">\n",
      "    ₦200,000\n",
      "   </div>\n",
      "   <div class=\"clearfix merchant-name-sm merchant-name\">\n",
      "    <ul>\n",
      "     <li>\n",
      "      <span>\n",
      "       Sold by\n",
      "      </span>\n",
      "     </li>\n",
      "     <li>\n",
      "      <a class=\"truncate\" href=\"/ugosam\">\n",
      "       UGOSAM\n",
      "      </a>\n",
      "     </li>\n",
      "    </ul>\n",
      "   </div>\n",
      "  </div>\n",
      "  <div class=\"merchant-card clearfix\">\n",
      "   <div class=\"reviews-card \">\n",
      "    <span class=\"review-stars 3411612-star\" data-sku=\"3411612\">\n",
      "    </span>\n",
      "    <span class=\"number-of-reviews number-of-reviews-3411612\">\n",
      "     0 REVIEWS\n",
      "    </span>\n",
      "    <span class=\"reviews-spacer\">\n",
      "     |\n",
      "    </span>\n",
      "    <span class=\"number-sold\">\n",
      "     12 SOLD\n",
      "    </span>\n",
      "   </div>\n",
      "  </div>\n",
      " </div>\n",
      "</div>\n",
      "\n"
     ]
    }
   ],
   "source": [
    "print(len(containers))\n",
    "print(BeautifulSoup.prettify(containers[0]))"
   ]
  },
  {
   "cell_type": "code",
   "execution_count": 73,
   "metadata": {
    "collapsed": false
   },
   "outputs": [
    {
     "name": "stdout",
     "output_type": "stream",
     "text": [
      "Samsung - Galaxy S8 - Black\n"
     ]
    }
   ],
   "source": [
    "container = containers[0]\n",
    "print(container.div.a.span.text)"
   ]
  },
  {
   "cell_type": "code",
   "execution_count": 74,
   "metadata": {
    "collapsed": false
   },
   "outputs": [
    {
     "name": "stdout",
     "output_type": "stream",
     "text": [
      "₦200,000\n"
     ]
    }
   ],
   "source": [
    "price = container.find_all(\"div\", {\"class\":[\"original-price original-price-bold\", \"special-price\"]})\n",
    "print(price[0].text)"
   ]
  },
  {
   "cell_type": "code",
   "execution_count": 75,
   "metadata": {
    "collapsed": false
   },
   "outputs": [
    {
     "name": "stdout",
     "output_type": "stream",
     "text": [
      "12 SOLD\n"
     ]
    }
   ],
   "source": [
    "number_sold = container.find_all(\"span\", {\"class\":\"number-sold\"})\n",
    "print(number_sold[0].text)"
   ]
  },
  {
   "cell_type": "code",
   "execution_count": 96,
   "metadata": {
    "collapsed": false
   },
   "outputs": [
    {
     "data": {
      "text/plain": [
       "33"
      ]
     },
     "execution_count": 96,
     "metadata": {},
     "output_type": "execute_result"
    }
   ],
   "source": [
    "filename = \"konga_samsung_data.csv\"\n",
    "f = open(filename, 'w')\n",
    "headers = \"Product_Name,Pricing,Number_Sold\\n\"\n",
    "f.write(headers)"
   ]
  },
  {
   "cell_type": "code",
   "execution_count": 97,
   "metadata": {
    "collapsed": false
   },
   "outputs": [
    {
     "name": "stdout",
     "output_type": "stream",
     "text": [
      "Samsung - Galaxy S8 - Black, 200000, 12\n",
      "\n",
      "Samsung - Galaxy S8 - (64gb| 4gb Ram) - Single Sim, 210000, 6\n",
      "\n",
      "Samsung - Galaxy S6 Edge Plus-32GB-Black + Free Pouch, 135000, 7\n",
      "\n",
      "Samsung - C5 32- Gold, 79000, 11\n",
      "\n",
      "Samsung - Galaxy J5 Pro 2017 - Dual SIM - 4G LTE - Black, 82000, 8\n",
      "\n",
      "Samsung - Galaxy J7 NEO - Dual Sim - 4G LTE - Black, 63000, 8\n",
      "\n",
      "Samsung - Galaxy A8 Plus - Black, 190000, 0\n",
      "\n",
      "Samsung - S9 Plus 6.2 Inch (6GB| 64GB) 12mp + 8mp - Purple, 340000, 0\n",
      "\n",
      "Samsung - S9 Plus 6.2 (6GB|64GB) Andriod 8.0 12mp + 8 Mp - Grey, 330000, 0\n",
      "\n"
     ]
    }
   ],
   "source": [
    "for container in containers:\n",
    "    product_name = container.div.a.span.text\n",
    "    product_name = product_name.replace(\",\", \"|\")\n",
    "    \n",
    "    price_container = container.find_all(\"div\", {\"class\":[\"original-price original-price-bold\", \"special-price\"]})\n",
    "    price = price_container[0].text.strip(',')\n",
    "    price = price.replace(\",\", \"\").replace(\"₦\", \"\")\n",
    "    \n",
    "    number_sold_container = container.find_all(\"span\", {\"class\":\"number-sold\"})\n",
    "    number_sold = number_sold_container[0].text.strip(' SOLD')\n",
    "    \n",
    "    \n",
    "    \n",
    "    #print('Product Name: ' + product_name)\n",
    "    #print('Price: ' + price)\n",
    "    #print('Number Sold: ' + number_sold)\n",
    "    \n",
    "    print(product_name + \", \" + price + \", \" + number_sold + \"\\n\")\n",
    "    f.write(product_name + \", \" + price + \", \" + number_sold + \"\\n\")\n",
    "    \n",
    "f.close()"
   ]
  },
  {
   "cell_type": "code",
   "execution_count": null,
   "metadata": {
    "collapsed": true
   },
   "outputs": [],
   "source": []
  }
 ],
 "metadata": {
  "anaconda-cloud": {},
  "kernelspec": {
   "display_name": "Python [conda root]",
   "language": "python",
   "name": "conda-root-py"
  },
  "language_info": {
   "codemirror_mode": {
    "name": "ipython",
    "version": 3
   },
   "file_extension": ".py",
   "mimetype": "text/x-python",
   "name": "python",
   "nbconvert_exporter": "python",
   "pygments_lexer": "ipython3",
   "version": "3.5.2"
  }
 },
 "nbformat": 4,
 "nbformat_minor": 1
}
